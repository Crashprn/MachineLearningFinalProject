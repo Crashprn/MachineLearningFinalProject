{
 "cells": [
  {
   "cell_type": "code",
   "execution_count": 1,
   "metadata": {},
   "outputs": [],
   "source": [
    "import numpy as np\n",
    "\n",
    "import pandas as pd\n",
    "\n"
   ]
  },
  {
   "cell_type": "code",
   "execution_count": 2,
   "metadata": {},
   "outputs": [
    {
     "name": "stdout",
     "output_type": "stream",
     "text": [
      "          0         1         2         3         4         5         6  \\\n",
      "0 -0.822546 -0.472057 -0.579868  0.601334  0.001131 -0.033307  0.621883   \n",
      "1 -0.932106 -0.444832 -0.946184  0.783482  0.649199 -0.417868  0.810984   \n",
      "2 -0.786213 -0.454594 -0.989117  0.766382  0.825029 -0.260707  0.601579   \n",
      "3 -0.929848 -0.641187 -0.984187  0.838084  0.698074 -0.439465  0.848216   \n",
      "4 -0.782167 -0.475203 -0.785371  0.579609  0.718675 -0.169704  0.333027   \n",
      "\n",
      "          7         8         9  ...       760       761       762       763  \\\n",
      "0  0.219169 -0.297440 -0.999933  ...  0.746353  0.789280  0.454223  0.652186   \n",
      "1  0.553593 -0.841144 -0.999991  ...  0.972591  0.666550 -0.809021  0.077952   \n",
      "2  0.324533 -0.961853 -0.999995  ...  0.992954  0.505823 -0.130431 -0.429334   \n",
      "3  0.544355 -0.940431 -0.999996  ...  0.995336  0.807030 -0.736760 -0.092651   \n",
      "4  0.279532 -0.594330 -0.999871  ...  0.968012  0.792530  0.080506  0.567232   \n",
      "\n",
      "        764       765       766       767  target  \\\n",
      "0  0.384898 -0.173033 -0.653783  0.722890       1   \n",
      "1  0.690775 -0.809868 -0.695485  0.752990       1   \n",
      "2  0.774262 -0.879583 -0.601859  0.773692       1   \n",
      "3  0.772516 -0.862276 -0.756446  0.812085       1   \n",
      "4  0.400888 -0.405238 -0.665966  0.872382       1   \n",
      "\n",
      "                                                text  \n",
      "0  Our Deeds are the Reason of this #earthquake M...  \n",
      "1             Forest fire near La Ronge Sask. Canada  \n",
      "2  All residents asked to 'shelter in place' are ...  \n",
      "3  13,000 people receive #wildfires evacuation or...  \n",
      "4  Just got sent this photo from Ruby #Alaska as ...  \n",
      "\n",
      "[5 rows x 770 columns]\n"
     ]
    }
   ],
   "source": [
    "df = pd.read_csv('data/processed_bert.csv')\n",
    "\n",
    "print(df.head())\n",
    "\n",
    "data = df[[str(i) for i in range(768)]+[\"target\"]].values\n",
    "\n",
    "np.random.shuffle(data)"
   ]
  },
  {
   "cell_type": "code",
   "execution_count": 3,
   "metadata": {},
   "outputs": [],
   "source": [
    "from sklearn.model_selection import train_test_split\n",
    "\n",
    "text_embeddings = data[:,:-1]\n",
    "targets = data[:,-1]\n",
    "\n",
    "X_train, X_test, y_train, y_test = train_test_split(text_embeddings, targets, test_size=0.2, random_state=42)"
   ]
  },
  {
   "cell_type": "markdown",
   "metadata": {},
   "source": [
    "## Logistic Regression"
   ]
  },
  {
   "cell_type": "code",
   "execution_count": 32,
   "metadata": {},
   "outputs": [
    {
     "name": "stdout",
     "output_type": "stream",
     "text": [
      "Train accuracy: 0.832183908045977\n",
      "Test accuracy: 0.7977675640183848\n"
     ]
    },
    {
     "name": "stderr",
     "output_type": "stream",
     "text": [
      "/home/codygrogan/.local/lib/python3.12/site-packages/sklearn/linear_model/_logistic.py:460: ConvergenceWarning: lbfgs failed to converge (status=1):\n",
      "STOP: TOTAL NO. of ITERATIONS REACHED LIMIT.\n",
      "\n",
      "Increase the number of iterations (max_iter) or scale the data as shown in:\n",
      "    https://scikit-learn.org/stable/modules/preprocessing.html\n",
      "Please also refer to the documentation for alternative solver options:\n",
      "    https://scikit-learn.org/stable/modules/linear_model.html#logistic-regression\n",
      "  n_iter_i = _check_optimize_result(\n"
     ]
    }
   ],
   "source": [
    "from sklearn.linear_model import LogisticRegression\n",
    "\n",
    "clf = LogisticRegression(random_state=0, max_iter=1000).fit(X_train, y_train)\n",
    "\n",
    "train_acc = clf.score(X_train, y_train)\n",
    "test_acc = clf.score(X_test, y_test)\n",
    "\n",
    "print(f'Train accuracy: {train_acc}')\n",
    "print(f'Test accuracy: {test_acc}')"
   ]
  },
  {
   "cell_type": "markdown",
   "metadata": {},
   "source": [
    "## Random Forest Classifier"
   ]
  },
  {
   "cell_type": "code",
   "execution_count": 33,
   "metadata": {},
   "outputs": [
    {
     "name": "stdout",
     "output_type": "stream",
     "text": [
      "Train accuracy: 0.997208538587849\n",
      "Test accuracy: 0.7741300065659882\n"
     ]
    }
   ],
   "source": [
    "from sklearn.ensemble import RandomForestClassifier\n",
    "\n",
    "rf_clf = RandomForestClassifier(n_estimators=300, max_depth=200, n_jobs=10).fit(X_train, y_train)\n",
    "\n",
    "train_acc = rf_clf.score(X_train, y_train)\n",
    "test_acc = rf_clf.score(X_test, y_test)\n",
    "\n",
    "print(f'Train accuracy: {train_acc}')\n",
    "print(f'Test accuracy: {test_acc}')"
   ]
  },
  {
   "cell_type": "markdown",
   "metadata": {},
   "source": [
    "## SVM"
   ]
  },
  {
   "cell_type": "code",
   "execution_count": 6,
   "metadata": {},
   "outputs": [
    {
     "name": "stdout",
     "output_type": "stream",
     "text": [
      "Train accuracy: 0.8044334975369458\n",
      "Test accuracy: 0.7951411687458962\n"
     ]
    }
   ],
   "source": [
    "from sklearn.svm import SVC\n",
    "\n",
    "svm_clf = SVC(C=6).fit(X_train, y_train)\n",
    "\n",
    "train_acc = svm_clf.score(X_train, y_train)\n",
    "test_acc = svm_clf.score(X_test, y_test)\n",
    "\n",
    "print(f'Train accuracy: {train_acc}')\n",
    "print(f'Test accuracy: {test_acc}')"
   ]
  }
 ],
 "metadata": {
  "kernelspec": {
   "display_name": "Python 3",
   "language": "python",
   "name": "python3"
  },
  "language_info": {
   "codemirror_mode": {
    "name": "ipython",
    "version": 3
   },
   "file_extension": ".py",
   "mimetype": "text/x-python",
   "name": "python",
   "nbconvert_exporter": "python",
   "pygments_lexer": "ipython3",
   "version": "3.12.2"
  }
 },
 "nbformat": 4,
 "nbformat_minor": 2
}
